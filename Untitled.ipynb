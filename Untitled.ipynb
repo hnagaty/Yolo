{
 "cells": [
  {
   "cell_type": "markdown",
   "id": "8b7e6b2f-bbf2-4bcc-9571-2cacfe290212",
   "metadata": {},
   "source": [
    "I used the [script provided by the authors](https://pjreddie.com/darknet/yolo/) to generate the image lables from the annotation xml files.\n",
    "Each image is labbeled in a single text file, with this data:  \n",
    "`<object-class> <x> <y> <width> <height>`  \n",
    "Example is:  \n",
    "`4 0.595 0.404 0.802 0.808`"
   ]
  },
  {
   "cell_type": "code",
   "execution_count": null,
   "id": "57819b98-dc82-4f2e-a546-9d1cdd516e0f",
   "metadata": {},
   "outputs": [],
   "source": []
  },
  {
   "cell_type": "code",
   "execution_count": null,
   "id": "f4260465-31b0-4ac7-879b-e0cef41aca4f",
   "metadata": {},
   "outputs": [],
   "source": []
  }
 ],
 "metadata": {
  "kernelspec": {
   "display_name": "Python 3 (ipykernel)",
   "language": "python",
   "name": "python3"
  },
  "language_info": {
   "codemirror_mode": {
    "name": "ipython",
    "version": 3
   },
   "file_extension": ".py",
   "mimetype": "text/x-python",
   "name": "python",
   "nbconvert_exporter": "python",
   "pygments_lexer": "ipython3",
   "version": "3.10.4"
  }
 },
 "nbformat": 4,
 "nbformat_minor": 5
}
